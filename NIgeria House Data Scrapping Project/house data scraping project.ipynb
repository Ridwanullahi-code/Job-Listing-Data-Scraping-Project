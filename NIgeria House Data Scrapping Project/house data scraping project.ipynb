{
 "cells": [
  {
   "cell_type": "code",
   "execution_count": 7,
   "metadata": {},
   "outputs": [],
   "source": [
    "import requests\n",
    "from requests.exceptions import HTTPError\n",
    "import re\n",
    "from bs4 import BeautifulSoup\n",
    "from csv import DictWriter"
   ]
  },
  {
   "cell_type": "code",
   "execution_count": 259,
   "metadata": {},
   "outputs": [],
   "source": []
  },
  {
   "cell_type": "code",
   "execution_count": 294,
   "metadata": {},
   "outputs": [],
   "source": [
    "def parse(url = None, start = None, page = None):\n",
    "    try:\n",
    "        with open('NigeriaHouse.csv',newline = '', mode = 'a',encoding='UTF8') as csv_file:\n",
    "            writer = csv.writer(csv_file, delimiter=',', quotechar='\"', quoting=csv.QUOTE_MINIMAL)\n",
    "            #header = ['bedrooms','bathrooms','toilets','parking spaces','type','town','state','price']\n",
    "            #writer.writerow(header)\n",
    "            for p in range(start,page+1):\n",
    "                response = requests.get(f'{url}+?page={p}')\n",
    "                soup = BeautifulSoup(response.text, 'html.parser')\n",
    "                house_detail = soup.find_all('div',{'itemprop':'itemListElement'})\n",
    "\n",
    "                for j in range(len(house_detail)):\n",
    "                    bedroom = None\n",
    "                    bathroom = None\n",
    "                    toilet = None\n",
    "                    parking_space = None\n",
    "                    info = house_detail[j].find_all('li')\n",
    "                    type_ = re.sub(r'(\\d bedroom|for sale)','',house_detail[j].find('h4', class_='content-title').text).strip()\n",
    "                    town = house_detail[j].address.text.replace(' \\xa0Ikate, ','').split(',')[-2].strip()\n",
    "                    state = house_detail[j].address.text.replace(' \\xa0Ikate, ','').split(',')[-1].strip()\n",
    "                    price = house_detail[j].find('span', class_='pull-sm-left').text.replace('\\n₦','').replace(',','')\n",
    "\n",
    "                    for i in range(len(info)):\n",
    "                        if 'Bedrooms' in info[i].text:\n",
    "                            bedroom = info[i].text.split(' ')[0]\n",
    "                        elif 'Bathrooms' in info[i].text:\n",
    "                            bathroom = info[i].text.split(' ')[0]\n",
    "                        elif 'Toilets' in info[i].text:\n",
    "                            toilet = info[i].text.split(' ')[0]\n",
    "\n",
    "                        elif 'Parking Spaces' in info[i].text:\n",
    "                            parking_space = info[i].text.split(' ')[0]\n",
    "\n",
    "                    writer.writerow([bedroom, bathroom, toilet,parking_space,type_,town,state,price])\n",
    "    \n",
    "    except HTTPError as http_err:\n",
    "        print(f\"HTTPError Occured {http_er}\")\n",
    "    except Exception as err:\n",
    "        print(f'Other Error Found {err}')\n"
   ]
  },
  {
   "cell_type": "code",
   "execution_count": 295,
   "metadata": {},
   "outputs": [],
   "source": [
    "url = 'https://nigeriapropertycentre.com/for-sale/houses/showtype'"
   ]
  },
  {
   "cell_type": "code",
   "execution_count": null,
   "metadata": {},
   "outputs": [],
   "source": [
    "# print(parse(url,1,1813))"
   ]
  }
 ],
 "metadata": {
  "kernelspec": {
   "display_name": "Python 3",
   "language": "python",
   "name": "python3"
  },
  "language_info": {
   "codemirror_mode": {
    "name": "ipython",
    "version": 3
   },
   "file_extension": ".py",
   "mimetype": "text/x-python",
   "name": "python",
   "nbconvert_exporter": "python",
   "pygments_lexer": "ipython3",
   "version": "3.7.1"
  }
 },
 "nbformat": 4,
 "nbformat_minor": 2
}
